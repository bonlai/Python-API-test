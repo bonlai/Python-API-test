{
 "cells": [
  {
   "cell_type": "code",
   "execution_count": 2,
   "metadata": {},
   "outputs": [],
   "source": [
    "from lxml import html  \n",
    "import csv\n",
    "import requests\n",
    "#from exceptions import ValueError\n",
    "from time import sleep\n",
    "import re\n",
    "import argparse\n",
    "import shutil"
   ]
  },
  {
   "cell_type": "code",
   "execution_count": 3,
   "metadata": {},
   "outputs": [
    {
     "name": "stderr",
     "output_type": "stream",
     "text": [
      "C:\\Users\\Bon Lai\\Desktop\\Python API test\\RestAPI\\RestAPI\\env\\lib\\site-packages\\urllib3\\connectionpool.py:858: InsecureRequestWarning: Unverified HTTPS request is being made. Adding certificate verification is strongly advised. See: https://urllib3.readthedocs.io/en/latest/advanced-usage.html#ssl-warnings\n",
      "  InsecureRequestWarning)\n"
     ]
    },
    {
     "name": "stdout",
     "output_type": "stream",
     "text": [
      "<Element html at 0x1fab3764bd8>\n"
     ]
    }
   ],
   "source": [
    "url='https://www.yelp.com/search?find_desc=Restaurants&find_loc=Yuen+Long'\n",
    "headers = {'User-Agent': 'Mozilla/5.0 (X11; Linux x86_64) AppleWebKit/537.36 (KHTML, like Gecko) Chrome/42.0.2311.90 Safari/537.36'}\n",
    "r=requests.get(url, headers=headers, verify=False)\n",
    "r.encoding='utf-8'\n",
    "response = r.text\n",
    "parser = html.fromstring(response)\n",
    "print(parser)"
   ]
  },
  {
   "cell_type": "code",
   "execution_count": 15,
   "metadata": {},
   "outputs": [
    {
     "name": "stdout",
     "output_type": "stream",
     "text": [
      "https://s3-media4.fl.yelpcdn.com/bphoto/Qgk35cckEjKJDaksfHQyiw/o.jpg\n",
      "https://s3-media1.fl.yelpcdn.com/bphoto/zTGJSDr78bvyb4mVgUdO7Q/o.jpg\n",
      "https://s3-media3.fl.yelpcdn.com/bphoto/HJk_IkJnURSokXJSKNoQag/o.jpg\n",
      "https://s3-media3.fl.yelpcdn.com/bphoto/LPmyPv0asRN5BUzb5EXtMw/o.jpg\n",
      "https://s3-media3.fl.yelpcdn.com/bphoto/iPft_kjyd_QdAZer9Yu_QQ/o.jpg\n",
      "https://s3-media4.fl.yelpcdn.com/bphoto/HjAMUV6ByCpFvCdvsP_W3w/o.jpg\n",
      "https://s3-media3.fl.yelpcdn.com/bphoto/XYun0FDxDYmCaU1iVamTHw/o.jpg\n",
      "https://s3-media2.fl.yelpcdn.com/bphoto/1BQL0iWwwdb5ynuGYmCq6A/o.jpg\n",
      "https://s3-media2.fl.yelpcdn.com/bphoto/MnlBwJTFovexuVMbd2Ta7w/o.jpg\n",
      "https://s3-media4.fl.yelpcdn.com/bphoto/OqB8RegAuH2djBj_GgP10w/o.jpg\n"
     ]
    }
   ],
   "source": [
    "listing = parser.xpath(\"//li[@class='regular-search-result']\")\n",
    "total_results = parser.xpath(\"//span[@class='pagination-results-window']//text()\")\n",
    "scraped_datas=[]\n",
    "for results in listing:\n",
    "    raw_position = results.xpath(\".//span[@class='indexed-biz-name']/text()\")\t\n",
    "    raw_name = results.xpath(\".//span[@class='indexed-biz-name']/a//text()\")\n",
    "    img_url = results.xpath(\".//div[@class='photo-box pb-90s']//img/@src\")[0].replace('90s','o')\n",
    "    print(img_url)\n",
    "    img_r = requests.get(img_url, stream=True)\n",
    "    if img_r.status_code == 200:\n",
    "        with open('F:/Python-API-test/RestAPI/RestAPI/scrapper_script/img/sample.jpg', 'wb') as f:\n",
    "            img_r.raw.decode_content = True\n",
    "            shutil.copyfileobj(img_r.raw, f)     "
   ]
  },
  {
   "cell_type": "code",
   "execution_count": 10,
   "metadata": {},
   "outputs": [],
   "source": [
    "import codecs"
   ]
  },
  {
   "cell_type": "code",
   "execution_count": 11,
   "metadata": {},
   "outputs": [
    {
     "name": "stdout",
     "output_type": "stream",
     "text": [
      "b'\\xef\\xbb\\xbf'\n"
     ]
    }
   ],
   "source": [
    "print(codecs.BOM_UTF8)"
   ]
  },
  {
   "cell_type": "code",
   "execution_count": 9,
   "metadata": {},
   "outputs": [],
   "source": [
    "import shutil"
   ]
  },
  {
   "cell_type": "code",
   "execution_count": null,
   "metadata": {},
   "outputs": [],
   "source": []
  }
 ],
 "metadata": {
  "kernelspec": {
   "display_name": "Python 3",
   "language": "python",
   "name": "python3"
  },
  "language_info": {
   "codemirror_mode": {
    "name": "ipython",
    "version": 3
   },
   "file_extension": ".py",
   "mimetype": "text/x-python",
   "name": "python",
   "nbconvert_exporter": "python",
   "pygments_lexer": "ipython3",
   "version": "3.6.2"
  }
 },
 "nbformat": 4,
 "nbformat_minor": 2
}
