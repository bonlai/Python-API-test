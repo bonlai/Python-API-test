{
 "cells": [
  {
   "cell_type": "code",
   "execution_count": 6,
   "metadata": {},
   "outputs": [
    {
     "data": {
      "text/plain": [
       "<QuerySet [<Restaurant: 稻香超級漁港>]>"
      ]
     },
     "execution_count": 6,
     "metadata": {},
     "output_type": "execute_result"
    }
   ],
   "source": [
    "from API.models import *\n",
    "restaurant=Restaurant.objects.filter(id=5)\n",
    "restaurant\n"
   ]
  },
  {
   "cell_type": "code",
   "execution_count": 7,
   "metadata": {},
   "outputs": [
    {
     "name": "stdout",
     "output_type": "stream",
     "text": [
      "-1\n",
      "-2\n",
      "diff\n",
      "3\n",
      "diff\n"
     ]
    }
   ],
   "source": [
    "reviewsByUser=Review.objects.filter(user=13)\n",
    "for review in reviewsByUser:\n",
    "\totherReviews=review.restaurant.review_set.exclude(id=review.id)\n",
    "\tfor otherReview in otherReviews:\n",
    "\t\tprint(review.rating-otherReview.rating)\n",
    "\tprint('diff')\t\t"
   ]
  },
  {
   "cell_type": "code",
   "execution_count": 15,
   "metadata": {},
   "outputs": [
    {
     "name": "stdout",
     "output_type": "stream",
     "text": [
      "     5   6   7\n",
      "11   1   2   3\n",
      "12  10  11  12\n",
      "13  20  21  22\n"
     ]
    },
    {
     "data": {
      "text/plain": [
       "12"
      ]
     },
     "execution_count": 15,
     "metadata": {},
     "output_type": "execute_result"
    }
   ],
   "source": [
    "import pandas as pd\n",
    "\n",
    "userid=list(Review.objects.all().values_list('user', flat=True).distinct())\n",
    "restaurantid=list(Review.objects.all().values_list('restaurant', flat=True).distinct())\n",
    "\n",
    "groups = [\"Movies\", \"Sports\", \"Coding\"]  \n",
    "num = [46, 8, 12]\n",
    "\n",
    "dict = {\"userId\"  : userid,\n",
    "        \"groups\": groups,  \n",
    "        \"num\": num\n",
    "       }\n",
    "\n",
    "#select_df = pd.DataFrame(dict)\n",
    "select_df = pd.DataFrame([[1,2,3],[10,11,12],[20,21,22]],index=userid,columns=restaurantid)\n",
    "\n",
    "print(select_df)\n",
    "df.index[1] \n",
    "\n",
    "#select_df.index['Date 2':'Date 5'] \n",
    "#select_df.rename_axis('names')\n"
   ]
  },
  {
   "cell_type": "code",
   "execution_count": 5,
   "metadata": {},
   "outputs": [
    {
     "data": {
      "text/plain": [
       "[11, 12, 13]"
      ]
     },
     "execution_count": 5,
     "metadata": {},
     "output_type": "execute_result"
    }
   ],
   "source": [
    "list(Review.objects.all().values_list('user', flat=True).distinct())"
   ]
  },
  {
   "cell_type": "code",
   "execution_count": 4,
   "metadata": {},
   "outputs": [
    {
     "data": {
      "text/plain": [
       "[5, 6, 7]"
      ]
     },
     "execution_count": 4,
     "metadata": {},
     "output_type": "execute_result"
    }
   ],
   "source": [
    "list(Review.objects.all().values_list('restaurant', flat=True).distinct())"
   ]
  },
  {
   "cell_type": "code",
   "execution_count": null,
   "metadata": {},
   "outputs": [],
   "source": []
  }
 ],
 "metadata": {
  "kernelspec": {
   "display_name": "Django Shell-Plus",
   "language": "python",
   "name": "django_extensions"
  },
  "language_info": {
   "codemirror_mode": {
    "name": "ipython",
    "version": 3
   },
   "file_extension": ".py",
   "mimetype": "text/x-python",
   "name": "python",
   "nbconvert_exporter": "python",
   "pygments_lexer": "ipython3",
   "version": "3.6.2"
  }
 },
 "nbformat": 4,
 "nbformat_minor": 2
}
