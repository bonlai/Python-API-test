{
 "cells": [
  {
   "cell_type": "code",
   "execution_count": 5,
   "metadata": {},
   "outputs": [],
   "source": [
    "from lxml import html  \n",
    "import csv\n",
    "import requests\n",
    "#from exceptions import ValueError\n",
    "from time import sleep\n",
    "import re\n",
    "import argparse"
   ]
  },
  {
   "cell_type": "code",
   "execution_count": 7,
   "metadata": {},
   "outputs": [
    {
     "name": "stderr",
     "output_type": "stream",
     "text": [
      "C:\\Users\\Bon Lai\\Desktop\\Python API test\\RestAPI\\RestAPI\\env\\lib\\site-packages\\urllib3\\connectionpool.py:858: InsecureRequestWarning: Unverified HTTPS request is being made. Adding certificate verification is strongly advised. See: https://urllib3.readthedocs.io/en/latest/advanced-usage.html#ssl-warnings\n",
      "  InsecureRequestWarning)\n"
     ]
    },
    {
     "name": "stdout",
     "output_type": "stream",
     "text": [
      "<Element html at 0x14285e96db8>\n"
     ]
    }
   ],
   "source": [
    "url='https://www.yelp.com/search?find_desc=Restaurants&find_loc=Yuen+Long'\n",
    "headers = {'User-Agent': 'Mozilla/5.0 (X11; Linux x86_64) AppleWebKit/537.36 (KHTML, like Gecko) Chrome/42.0.2311.90 Safari/537.36'}\n",
    "r=requests.get(url, headers=headers, verify=False)\n",
    "r.encoding='utf-8'\n",
    "response = r.text\n",
    "parser = html.fromstring(response)\n",
    "print(parser)"
   ]
  },
  {
   "cell_type": "code",
   "execution_count": 9,
   "metadata": {},
   "outputs": [
    {
     "name": "stdout",
     "output_type": "stream",
     "text": [
      "['Mrs Tang Cafe']\n",
      "['發記腸粉粥品']\n",
      "['Tokyo Tsukiji']\n",
      "['Tai Wing Wah Restaurant']\n",
      "['New York Cafe & Bar']\n",
      "['Hakka Hut']\n",
      "['Kurosawa Kitchen']\n",
      "['Hung Fook Tong']\n",
      "['Siu Tao Yuen']\n",
      "['Hai Nam Chicken Takeaway Shop']\n"
     ]
    }
   ],
   "source": [
    "listing = parser.xpath(\"//li[@class='regular-search-result']\")\n",
    "total_results = parser.xpath(\"//span[@class='pagination-results-window']//text()\")\n",
    "scraped_datas=[]\n",
    "for results in listing:\n",
    "    raw_position = results.xpath(\".//span[@class='indexed-biz-name']/text()\")\t\n",
    "    raw_name = results.xpath(\".//span[@class='indexed-biz-name']/a//text()\")\n",
    "    print(raw_name)"
   ]
  },
  {
   "cell_type": "code",
   "execution_count": 10,
   "metadata": {},
   "outputs": [],
   "source": [
    "import codecs"
   ]
  },
  {
   "cell_type": "code",
   "execution_count": 11,
   "metadata": {},
   "outputs": [
    {
     "name": "stdout",
     "output_type": "stream",
     "text": [
      "b'\\xef\\xbb\\xbf'\n"
     ]
    }
   ],
   "source": [
    "print(codecs.BOM_UTF8)"
   ]
  },
  {
   "cell_type": "code",
   "execution_count": null,
   "metadata": {},
   "outputs": [],
   "source": []
  }
 ],
 "metadata": {
  "kernelspec": {
   "display_name": "Python 3",
   "language": "python",
   "name": "python3"
  },
  "language_info": {
   "codemirror_mode": {
    "name": "ipython",
    "version": 3
   },
   "file_extension": ".py",
   "mimetype": "text/x-python",
   "name": "python",
   "nbconvert_exporter": "python",
   "pygments_lexer": "ipython3",
   "version": "3.6.2"
  }
 },
 "nbformat": 4,
 "nbformat_minor": 2
}
