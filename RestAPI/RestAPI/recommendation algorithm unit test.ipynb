{
 "cells": [
  {
   "cell_type": "code",
   "execution_count": 1,
   "metadata": {},
   "outputs": [],
   "source": [
    "from API.recommendation import *\n",
    "import unittest\n",
    "from pandas.util.testing import assert_frame_equal"
   ]
  },
  {
   "cell_type": "code",
   "execution_count": 10,
   "metadata": {},
   "outputs": [
    {
     "name": "stderr",
     "output_type": "stream",
     "text": [
      "test_load_data_to_diff_matrix (__main__.SlopeTest) ... ok\n",
      "test_load_data_to_freq_matrix (__main__.SlopeTest) ... ok\n",
      "test_load_data_to_rating_matrix (__main__.SlopeTest) ... ok\n",
      "test_predict_score_using_slope_one (__main__.SlopeTest) ... ok\n",
      "test_return_ori_score (__main__.SlopeTest) ... ok\n",
      "\n",
      "----------------------------------------------------------------------\n",
      "Ran 5 tests in 4.215s\n",
      "\n",
      "OK\n"
     ]
    },
    {
     "data": {
      "text/plain": [
       "<unittest.runner.TextTestResult run=5 errors=0 failures=0>"
      ]
     },
     "execution_count": 10,
     "metadata": {},
     "output_type": "execute_result"
    }
   ],
   "source": [
    "class SlopeTest(unittest.TestCase):  \n",
    "    \n",
    "    @classmethod\n",
    "    def setUpClass(cls):\n",
    "        cls.s = SlopeOne()\n",
    "\n",
    "    def test_load_data_to_rating_matrix(self):\n",
    "        userIdList=list(User.objects.all().order_by('id').values_list('id', flat=True))\n",
    "        restaurantIdList=list(Restaurant.objects.all().values_list('id',flat=True))\n",
    "\n",
    "        testMatrix = pd.DataFrame(index=userIdList,columns=restaurantIdList)\n",
    "        testMatrix.loc[11][5]=5\n",
    "        testMatrix.loc[11][6]=3\n",
    "        testMatrix.loc[11][7]=2\n",
    "        testMatrix.loc[12][5]=3\n",
    "        testMatrix.loc[12][6]=4\n",
    "        testMatrix.loc[13][6]=2\n",
    "        testMatrix.loc[13][7]=5\n",
    "        \n",
    "        assert_frame_equal(self.s.ratingMatrix ,testMatrix)\n",
    "\n",
    "    def test_load_data_to_diff_matrix(self):\n",
    "        restaurantIdList=list(Restaurant.objects.all().values_list('id',flat=True))\n",
    "        matrixLenght=len(restaurantIdList)\n",
    "        testMatrix = pd.DataFrame(index=restaurantIdList,columns=restaurantIdList)\n",
    "        for i in range(0,matrixLenght-1):\n",
    "            for j in range(i+1,matrixLenght):\n",
    "                ratingIndex1=restaurantIdList[i]\n",
    "                ratingIndex2=restaurantIdList[j]\n",
    "                testMatrix.at[ratingIndex1,ratingIndex2]=0\n",
    "                testMatrix.at[ratingIndex2,ratingIndex1]=0\n",
    "\n",
    "        testMatrix.loc[5][6]=0.5\n",
    "        testMatrix.loc[6][5]=-0.5\n",
    "        testMatrix.loc[5][7]=3\n",
    "        testMatrix.loc[7][5]=-3\n",
    "        testMatrix.loc[6][7]=-1\n",
    "        testMatrix.loc[7][6]=1\n",
    "        \n",
    "        assert_frame_equal(self.s.diffMatrix ,testMatrix)    \n",
    "\n",
    "    def test_load_data_to_freq_matrix(self):\n",
    "        restaurantIdList=list(Restaurant.objects.all().values_list('id',flat=True))\n",
    "        matrixLenght=len(restaurantIdList)\n",
    "        testMatrix = pd.DataFrame(index=restaurantIdList,columns=restaurantIdList)\n",
    "        for i in range(0,matrixLenght-1):\n",
    "            for j in range(i+1,matrixLenght):\n",
    "                ratingIndex1=restaurantIdList[i]\n",
    "                ratingIndex2=restaurantIdList[j]\n",
    "                testMatrix.at[ratingIndex1,ratingIndex2]=0\n",
    "                testMatrix.at[ratingIndex2,ratingIndex1]=0\n",
    "\n",
    "        testMatrix.loc[5][6]=2\n",
    "        testMatrix.loc[6][5]=2\n",
    "        testMatrix.loc[5][7]=1\n",
    "        testMatrix.loc[7][5]=1\n",
    "        testMatrix.loc[6][7]=2\n",
    "        testMatrix.loc[7][6]=2\n",
    "        \n",
    "        assert_frame_equal(self.s.freqMatrix ,testMatrix)    \n",
    "        \n",
    "    def test_predict_score_using_slope_one(self):                   \n",
    "        self.assertAlmostEqual(self.s.predict(13,5) ,4.33,places=2)\n",
    "\n",
    "    def test_return_ori_score(self):                   \n",
    "        self.assertEqual(self.s.predict(11,5) ,5)\n",
    "        \n",
    "suite = unittest.TestLoader().loadTestsFromTestCase(SlopeTest)\n",
    "unittest.TextTestRunner(verbosity=2).run(suite)"
   ]
  },
  {
   "cell_type": "code",
   "execution_count": 18,
   "metadata": {},
   "outputs": [
    {
     "name": "stderr",
     "output_type": "stream",
     "text": [
      "test_age_distance (__main__.ClusterTest) ... ok\n",
      "test_interest_distance (__main__.ClusterTest) ... ok\n",
      "test_location_distance (__main__.ClusterTest) ... ok\n",
      "\n",
      "----------------------------------------------------------------------\n",
      "Ran 3 tests in 0.359s\n",
      "\n",
      "OK\n"
     ]
    },
    {
     "data": {
      "text/plain": [
       "<unittest.runner.TextTestResult run=3 errors=0 failures=0>"
      ]
     },
     "execution_count": 18,
     "metadata": {},
     "output_type": "execute_result"
    }
   ],
   "source": [
    "class ClusterTest(unittest.TestCase):  \n",
    "    @classmethod\n",
    "    def setUpClass(cls):\n",
    "        cls.u = UserClustering()\n",
    "\n",
    "    def test_interest_distance(self):\n",
    "        self.assertAlmostEqual(self.u.interestDistanceMatrix.loc[1][15] ,0.4,places=1)\n",
    " \n",
    "    def test_age_distance(self):\n",
    "        self.assertAlmostEqual(self.u.ageDistanceMatrix.loc[1][7] ,0.033,places=3)\n",
    "        \n",
    "    def test_location_distance(self):\n",
    "        self.assertAlmostEqual(self.u.locationDistanceMatrix.loc[9][8] ,0.784,places=3)\n",
    "        \n",
    "suite = unittest.TestLoader().loadTestsFromTestCase(ClusterTest)\n",
    "unittest.TextTestRunner(verbosity=2).run(suite)"
   ]
  },
  {
   "cell_type": "code",
   "execution_count": 34,
   "metadata": {},
   "outputs": [
    {
     "name": "stderr",
     "output_type": "stream",
     "text": [
      "test_context_distance (__main__.ContextTest) ... ok\n",
      "\n",
      "----------------------------------------------------------------------\n",
      "Ran 1 test in 0.005s\n",
      "\n",
      "OK\n"
     ]
    },
    {
     "data": {
      "text/plain": [
       "<unittest.runner.TextTestResult run=1 errors=0 failures=0>"
      ]
     },
     "execution_count": 34,
     "metadata": {},
     "output_type": "execute_result"
    }
   ],
   "source": [
    "class ContextTest(unittest.TestCase):  \n",
    "\n",
    "    def test_context_distance(self):\n",
    "        distance_rate=RecommendedRate.objects.get(user_id=16,gathering_id=21).distance_rate\n",
    "        self.assertEqual(distance_rate ,209)\n",
    "        \n",
    "suite = unittest.TestLoader().loadTestsFromTestCase(ContextTest)\n",
    "unittest.TextTestRunner(verbosity=2).run(suite)"
   ]
  },
  {
   "cell_type": "code",
   "execution_count": null,
   "metadata": {},
   "outputs": [],
   "source": []
  }
 ],
 "metadata": {
  "kernelspec": {
   "display_name": "Django Shell-Plus",
   "language": "python",
   "name": "django_extensions"
  },
  "language_info": {
   "codemirror_mode": {
    "name": "ipython",
    "version": 3
   },
   "file_extension": ".py",
   "mimetype": "text/x-python",
   "name": "python",
   "nbconvert_exporter": "python",
   "pygments_lexer": "ipython3",
   "version": "3.6.2"
  }
 },
 "nbformat": 4,
 "nbformat_minor": 2
}
