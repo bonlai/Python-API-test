{
 "cells": [
  {
   "cell_type": "code",
   "execution_count": 46,
   "metadata": {},
   "outputs": [
    {
     "name": "stdout",
     "output_type": "stream",
     "text": [
      "18\n",
      "[19, 20, 21, 25, 28, 22, 26, 27]\n",
      "<QuerySet [<Gathering: binno together!>, <Gathering: Delicious!>, <Gathering: First gathering>, <Gathering: qfgggfffdfffff>, <Gathering: uhjkkkkkj>, <Gathering: Tesing>, <Gathering: gsjsbjsjs>, <Gathering: gugjjjj>]>\n"
     ]
    },
    {
     "data": {
      "text/plain": [
       "<QuerySet [<Gathering: binno together!>, <Gathering: Delicious!>, <Gathering: First gathering>, <Gathering: Tesing>, <Gathering: qfgggfffdfffff>, <Gathering: gsjsbjsjs>, <Gathering: gugjjjj>, <Gathering: uhjkkkkkj>]>"
      ]
     },
     "execution_count": 46,
     "metadata": {},
     "output_type": "execute_result"
    }
   ],
   "source": [
    "from API.models import *\n",
    "restaurant=Restaurant.objects.filter(id=5)\n",
    "reviewsByUser=User.objects.get(id=18)\n",
    "print(reviewsByUser.id)\n",
    "#c=RecommendedRate(user_id=1, restaurant_id=1,rating=5)\n",
    "#c.rating\n",
    "#reviewsByUser.RecommendedRate\n",
    "#gAll=gathering.objects.all()\n",
    "rr=reviewsByUser.recommendedrate_set.all().order_by('-rating')\n",
    "#posts_lists = map(lambda post: project.post, rr)\n",
    "#print(posts_lists.values())\n",
    "mkey=list(rr.values_list('gathering_id',flat=True))\n",
    "print(mkey)\n",
    "clauses = ' '.join(['WHEN id=%s THEN %s' % (pk, i) for i, pk in enumerate(mkey)])\n",
    "ordering = 'CASE %s END' % clauses\n",
    "queryset = Gathering.objects.filter(pk__in=mkey).extra(\n",
    "           select={'ordering': ordering}, order_by=('ordering',))\n",
    "print(queryset)\n",
    "\n",
    "Gathering.objects.filter(id__in=rr.values('gathering_id'))\n",
    "#g=Gathering.objects.get(id=27)\n",
    "#r=g.recommend.get(id=207)\n",
    "#r.gathering.id"
   ]
  },
  {
   "cell_type": "code",
   "execution_count": 47,
   "metadata": {},
   "outputs": [
    {
     "name": "stdout",
     "output_type": "stream",
     "text": [
      "-1\n",
      "-2\n",
      "-2\n",
      "diff\n",
      "3\n",
      "diff\n"
     ]
    }
   ],
   "source": [
    "reviewsByUser=Review.objects.filter(user=13)\n",
    "for review in reviewsByUser:\n",
    "\totherReviews=review.restaurant.review_set.exclude(id=review.id)\n",
    "\tfor otherReview in otherReviews:\n",
    "\t\tprint(review.rating-otherReview.rating)\n",
    "\tprint('diff')\t\t"
   ]
  },
  {
   "cell_type": "code",
   "execution_count": 43,
   "metadata": {},
   "outputs": [
    {
     "name": "stdout",
     "output_type": "stream",
     "text": [
      "      1    2    3    4    5    6    7\n",
      "1   NaN  NaN  NaN  NaN  NaN  NaN  NaN\n",
      "2   NaN  NaN  NaN  NaN  NaN  NaN  NaN\n",
      "3   NaN  NaN  NaN  NaN  NaN  NaN  NaN\n",
      "4   NaN  NaN  NaN  NaN  NaN  NaN  NaN\n",
      "5   NaN  NaN  NaN  NaN  NaN  NaN  NaN\n",
      "6   NaN  NaN  NaN  NaN  NaN  NaN  NaN\n",
      "7   NaN  NaN  NaN  NaN  NaN  NaN  NaN\n",
      "8   NaN  NaN  NaN  NaN  NaN  NaN  NaN\n",
      "9   NaN  NaN  NaN  NaN  NaN  NaN  NaN\n",
      "10  NaN  NaN  NaN  NaN  NaN  NaN  NaN\n",
      "11  NaN  NaN  NaN  NaN    5    3    2\n",
      "12  NaN  NaN  NaN  NaN    3    4  NaN\n",
      "13  NaN  NaN  NaN  NaN  NaN    2    5\n",
      "14  NaN  NaN  NaN  NaN  NaN  NaN  NaN\n",
      "15  NaN  NaN  NaN  NaN  NaN  NaN  NaN\n",
      "16  NaN  NaN  NaN  NaN  NaN  NaN  NaN\n",
      "17  NaN  NaN  NaN  NaN  NaN  NaN  NaN\n",
      "18  NaN  NaN    2  NaN    4    4  NaN\n",
      "True\n"
     ]
    }
   ],
   "source": [
    "import pandas as pd\n",
    "import numpy as np\n",
    "\n",
    "userid=list(User.objects.all().order_by('id').values_list('id', flat=True))\n",
    "restaurantid=list(Restaurant.objects.all().values_list('id', flat=True))\n",
    "\n",
    "rating = pd.DataFrame(index=userid,columns=restaurantid)\n",
    "\n",
    "allReviews=Review.objects.all()\n",
    "for review in allReviews:\n",
    "    rating.at[review.user_id,review.restaurant_id]=review.rating\n",
    "\n",
    "print(rating)\n",
    "print(np.isnan(rating.loc[13,5]))"
   ]
  },
  {
   "cell_type": "code",
   "execution_count": 53,
   "metadata": {},
   "outputs": [
    {
     "name": "stdout",
     "output_type": "stream",
     "text": [
      "     1    2    3    4         5         6    7\n",
      "1  NaN    0    0    0         0         0    0\n",
      "2    0  NaN    0    0         0         0    0\n",
      "3    0    0  NaN    0        -2        -2    0\n",
      "4    0    0    0  NaN         0         0    0\n",
      "5    0    0    2    0       NaN  0.333333    3\n",
      "6    0    0    2    0 -0.333333       NaN   -1\n",
      "7    0    0    0    0        -3         1  NaN\n",
      "     1    2    3    4    5    6    7\n",
      "1  NaN    0    0    0    0    0    0\n",
      "2    0  NaN    0    0    0    0    0\n",
      "3    0    0  NaN    0    1    1    0\n",
      "4    0    0    0  NaN    0    0    0\n",
      "5    0    0    1    0  NaN    3    1\n",
      "6    0    0    1    0    3  NaN    2\n",
      "7    0    0    0    0    1    2  NaN\n"
     ]
    },
    {
     "ename": "ZeroDivisionError",
     "evalue": "float division by zero",
     "output_type": "error",
     "traceback": [
      "\u001b[1;31m---------------------------------------------------------------------------\u001b[0m",
      "\u001b[1;31mZeroDivisionError\u001b[0m                         Traceback (most recent call last)",
      "\u001b[1;32m<ipython-input-53-08be8ea8ab36>\u001b[0m in \u001b[0;36m<module>\u001b[1;34m()\u001b[0m\n\u001b[0;32m     20\u001b[0m \u001b[0mprint\u001b[0m\u001b[1;33m(\u001b[0m\u001b[0mdiff\u001b[0m\u001b[1;33m)\u001b[0m\u001b[1;33m\u001b[0m\u001b[0m\n\u001b[0;32m     21\u001b[0m \u001b[0mprint\u001b[0m\u001b[1;33m(\u001b[0m\u001b[0mfreq\u001b[0m\u001b[1;33m)\u001b[0m\u001b[1;33m\u001b[0m\u001b[0m\n\u001b[1;32m---> 22\u001b[1;33m \u001b[0mprint\u001b[0m\u001b[1;33m(\u001b[0m\u001b[0mdiff\u001b[0m\u001b[1;33m.\u001b[0m\u001b[0mloc\u001b[0m\u001b[1;33m[\u001b[0m\u001b[1;36m1\u001b[0m\u001b[1;33m,\u001b[0m\u001b[1;36m1\u001b[0m\u001b[1;33m]\u001b[0m\u001b[1;33m/\u001b[0m\u001b[1;36m0\u001b[0m\u001b[1;33m)\u001b[0m\u001b[1;33m\u001b[0m\u001b[0m\n\u001b[0m\u001b[0;32m     23\u001b[0m \u001b[1;33m\u001b[0m\u001b[0m\n\u001b[0;32m     24\u001b[0m \u001b[1;31m#print(diff.iloc[1])\u001b[0m\u001b[1;33m\u001b[0m\u001b[1;33m\u001b[0m\u001b[0m\n",
      "\u001b[1;31mZeroDivisionError\u001b[0m: float division by zero"
     ]
    }
   ],
   "source": [
    "diff = pd.DataFrame(index=restaurantid,columns=restaurantid)\n",
    "freq = pd.DataFrame(index=restaurantid,columns=restaurantid)\n",
    "matrixLenght=len(restaurantid)\n",
    "for i in range(0,matrixLenght-1):\n",
    "    for j in range(i+1,matrixLenght):\n",
    "        ratingIndex1=restaurantid[i]\n",
    "        ratingIndex2=restaurantid[j]\n",
    "        temp=rating[ratingIndex1].sub(rating[ratingIndex2])\n",
    "        count=temp.count()\n",
    "        sum=temp.sum()\n",
    "        if(count==0):\n",
    "            diff.at[ratingIndex1,ratingIndex2]=0\n",
    "            diff.at[ratingIndex2,ratingIndex1]=0\n",
    "        else:\n",
    "            diff.at[ratingIndex1,ratingIndex2]=sum/count\n",
    "            diff.at[ratingIndex2,ratingIndex1]=-sum/count\n",
    "        freq.at[ratingIndex1,ratingIndex2]=count\n",
    "        freq.at[ratingIndex2,ratingIndex1]=count\n",
    "\n",
    "print(diff)\n",
    "print(freq)\n",
    "print(diff.loc[1,1]/0)\n",
    "\n",
    "#print(diff.iloc[1])"
   ]
  },
  {
   "cell_type": "code",
   "execution_count": 59,
   "metadata": {},
   "outputs": [
    {
     "name": "stdout",
     "output_type": "stream",
     "text": [
      "3.6666666666666665\n"
     ]
    }
   ],
   "source": [
    "predid=18\n",
    "restid=7\n",
    "notnullindex=rating.loc[predid,:].dropna().index\n",
    "#print(notnullindex)\n",
    "length=len(notnullindex)\n",
    "ratingSum=0\n",
    "freqSum=0\n",
    "for i in range(0,length):\n",
    "    ratingSum+=(rating.loc[predid,notnullindex[i]]+diff.loc[restid][notnullindex[i]])*freq.loc[restid][notnullindex[i]]\n",
    "    freqSum+=freq.loc[restid][notnullindex[i]]\n",
    "if(freqSum!=0):\n",
    "    print(ratingSum/freqSum)\n",
    "else:\n",
    "    print(0)\n",
    "#predictedrate=RecommendedRate(user_id=predid, restaurant_id=restid,rating=ratingSum/freqSum)\n",
    "#predictedrate.save()\n"
   ]
  },
  {
   "cell_type": "code",
   "execution_count": 196,
   "metadata": {},
   "outputs": [
    {
     "data": {
      "text/html": [
       "<div>\n",
       "<style scoped>\n",
       "    .dataframe tbody tr th:only-of-type {\n",
       "        vertical-align: middle;\n",
       "    }\n",
       "\n",
       "    .dataframe tbody tr th {\n",
       "        vertical-align: top;\n",
       "    }\n",
       "\n",
       "    .dataframe thead th {\n",
       "        text-align: right;\n",
       "    }\n",
       "</style>\n",
       "<table border=\"1\" class=\"dataframe\">\n",
       "  <thead>\n",
       "    <tr style=\"text-align: right;\">\n",
       "      <th></th>\n",
       "      <th>5</th>\n",
       "      <th>6</th>\n",
       "      <th>7</th>\n",
       "      <th>10</th>\n",
       "      <th>11</th>\n",
       "    </tr>\n",
       "  </thead>\n",
       "  <tbody>\n",
       "    <tr>\n",
       "      <th>11</th>\n",
       "      <td>5</td>\n",
       "      <td>3</td>\n",
       "      <td>2</td>\n",
       "      <td>NaN</td>\n",
       "      <td>NaN</td>\n",
       "    </tr>\n",
       "    <tr>\n",
       "      <th>12</th>\n",
       "      <td>3</td>\n",
       "      <td>4</td>\n",
       "      <td>NaN</td>\n",
       "      <td>NaN</td>\n",
       "      <td>NaN</td>\n",
       "    </tr>\n",
       "    <tr>\n",
       "      <th>13</th>\n",
       "      <td>NaN</td>\n",
       "      <td>2</td>\n",
       "      <td>5</td>\n",
       "      <td>NaN</td>\n",
       "      <td>NaN</td>\n",
       "    </tr>\n",
       "    <tr>\n",
       "      <th>14</th>\n",
       "      <td>NaN</td>\n",
       "      <td>NaN</td>\n",
       "      <td>NaN</td>\n",
       "      <td>NaN</td>\n",
       "      <td>NaN</td>\n",
       "    </tr>\n",
       "    <tr>\n",
       "      <th>15</th>\n",
       "      <td>NaN</td>\n",
       "      <td>NaN</td>\n",
       "      <td>NaN</td>\n",
       "      <td>NaN</td>\n",
       "      <td>4.0</td>\n",
       "    </tr>\n",
       "  </tbody>\n",
       "</table>\n",
       "</div>"
      ],
      "text/plain": [
       "     5    6    7   10   11\n",
       "11    5    3    2 NaN  NaN\n",
       "12    3    4  NaN NaN  NaN\n",
       "13  NaN    2    5 NaN  NaN\n",
       "14  NaN  NaN  NaN NaN  NaN\n",
       "15  NaN  NaN  NaN NaN  4.0"
      ]
     },
     "execution_count": 196,
     "metadata": {},
     "output_type": "execute_result"
    }
   ],
   "source": [
    "import numpy as np\n",
    "\n",
    "rating.loc[:,10] = np.nan\n",
    "rating.loc[14,:]= np.nan\n",
    "rating.loc[15,11]= 4\n",
    "rating\n"
   ]
  },
  {
   "cell_type": "code",
   "execution_count": 8,
   "metadata": {},
   "outputs": [
    {
     "data": {
      "text/html": [
       "<div>\n",
       "<style scoped>\n",
       "    .dataframe tbody tr th:only-of-type {\n",
       "        vertical-align: middle;\n",
       "    }\n",
       "\n",
       "    .dataframe tbody tr th {\n",
       "        vertical-align: top;\n",
       "    }\n",
       "\n",
       "    .dataframe thead th {\n",
       "        text-align: right;\n",
       "    }\n",
       "</style>\n",
       "<table border=\"1\" class=\"dataframe\">\n",
       "  <thead>\n",
       "    <tr style=\"text-align: right;\">\n",
       "      <th></th>\n",
       "      <th>5</th>\n",
       "      <th>6</th>\n",
       "      <th>7</th>\n",
       "    </tr>\n",
       "  </thead>\n",
       "  <tbody>\n",
       "    <tr>\n",
       "      <th>5</th>\n",
       "      <td>NaN</td>\n",
       "      <td>3</td>\n",
       "      <td>2</td>\n",
       "    </tr>\n",
       "    <tr>\n",
       "      <th>6</th>\n",
       "      <td>3</td>\n",
       "      <td>NaN</td>\n",
       "      <td>2</td>\n",
       "    </tr>\n",
       "    <tr>\n",
       "      <th>7</th>\n",
       "      <td>2</td>\n",
       "      <td>2</td>\n",
       "      <td>NaN</td>\n",
       "    </tr>\n",
       "  </tbody>\n",
       "</table>\n",
       "</div>"
      ],
      "text/plain": [
       "     5    6    7\n",
       "5  NaN    3    2\n",
       "6    3  NaN    2\n",
       "7    2    2  NaN"
      ]
     },
     "execution_count": 8,
     "metadata": {},
     "output_type": "execute_result"
    }
   ],
   "source": [
    "\n",
    "newReviewRest=5\n",
    "freq.loc[newReviewRest,:] = freq.loc[newReviewRest,:] + 1\n",
    "freq.loc[:,newReviewRest] = freq.loc[:,newReviewRest] + 1\n",
    "freq"
   ]
  },
  {
   "cell_type": "code",
   "execution_count": 208,
   "metadata": {},
   "outputs": [
    {
     "data": {
      "text/plain": [
       "[5, 6, 7]"
      ]
     },
     "execution_count": 208,
     "metadata": {},
     "output_type": "execute_result"
    }
   ],
   "source": [
    "restaurantid\n",
    "matrixLenght=len(restaurantid)\n",
    "for i in range(0,matrixLenght-1):\n",
    "    ratingIndex1=restaurantid[i]\n",
    "    ratingIndex2=restaurantid[j]\n",
    "    temp=rating[ratingIndex1].sub(rating[ratingIndex2])\n",
    "    count=temp.count()\n",
    "    sum=temp.sum()\n",
    "    diff.at[ratingIndex1,ratingIndex2]=sum/count\n",
    "    diff.at[ratingIndex2,ratingIndex1]=-sum/count\n"
   ]
  },
  {
   "cell_type": "code",
   "execution_count": 11,
   "metadata": {},
   "outputs": [
    {
     "ename": "NameError",
     "evalue": "name 'RecommendedRate' is not defined",
     "output_type": "error",
     "traceback": [
      "\u001b[1;31m---------------------------------------------------------------------------\u001b[0m",
      "\u001b[1;31mNameError\u001b[0m                                 Traceback (most recent call last)",
      "\u001b[1;32m<ipython-input-11-f9b80a68c58c>\u001b[0m in \u001b[0;36m<module>\u001b[1;34m()\u001b[0m\n\u001b[1;32m----> 1\u001b[1;33m \u001b[0mRecommendedRate\u001b[0m\u001b[1;33m.\u001b[0m\u001b[0mobjects\u001b[0m\u001b[1;33m.\u001b[0m\u001b[0mall\u001b[0m\u001b[1;33m(\u001b[0m\u001b[1;33m)\u001b[0m\u001b[1;33m\u001b[0m\u001b[0m\n\u001b[0m",
      "\u001b[1;31mNameError\u001b[0m: name 'RecommendedRate' is not defined"
     ]
    }
   ],
   "source": [
    "RecommendedRate.objects.all()"
   ]
  },
  {
   "cell_type": "code",
   "execution_count": 5,
   "metadata": {},
   "outputs": [
    {
     "name": "stdout",
     "output_type": "stream",
     "text": [
      "nan\n"
     ]
    },
    {
     "data": {
      "text/plain": [
       "nan"
      ]
     },
     "execution_count": 5,
     "metadata": {},
     "output_type": "execute_result"
    }
   ],
   "source": [
    "from API.recommendation import *\n",
    "s=SlopeOne()\n",
    "s.predict(12,5)"
   ]
  },
  {
   "cell_type": "code",
   "execution_count": null,
   "metadata": {},
   "outputs": [],
   "source": []
  },
  {
   "cell_type": "code",
   "execution_count": null,
   "metadata": {},
   "outputs": [],
   "source": []
  }
 ],
 "metadata": {
  "kernelspec": {
   "display_name": "Django Shell-Plus",
   "language": "python",
   "name": "django_extensions"
  },
  "language_info": {
   "codemirror_mode": {
    "name": "ipython",
    "version": 3
   },
   "file_extension": ".py",
   "mimetype": "text/x-python",
   "name": "python",
   "nbconvert_exporter": "python",
   "pygments_lexer": "ipython3",
   "version": "3.6.2"
  }
 },
 "nbformat": 4,
 "nbformat_minor": 2
}
