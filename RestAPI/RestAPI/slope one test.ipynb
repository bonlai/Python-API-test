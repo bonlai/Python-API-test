{
 "cells": [
  {
   "cell_type": "code",
   "execution_count": 129,
   "metadata": {},
   "outputs": [
    {
     "name": "stdout",
     "output_type": "stream",
     "text": [
      "18\n",
      "[19, 20, 21, 25, 28, 22, 26, 27]\n",
      "<QuerySet [<Gathering: binno together!>, <Gathering: Delicious!>, <Gathering: First gathering>, <Gathering: qfgggfffdfffff>, <Gathering: uhjkkkkkj>, <Gathering: Tesing>, <Gathering: gsjsbjsjs>, <Gathering: gugjjjj>]>\n"
     ]
    },
    {
     "data": {
      "text/plain": [
       "<QuerySet [<Gathering: binno together!>, <Gathering: Delicious!>, <Gathering: First gathering>, <Gathering: Tesing>, <Gathering: qfgggfffdfffff>, <Gathering: gsjsbjsjs>, <Gathering: gugjjjj>, <Gathering: uhjkkkkkj>]>"
      ]
     },
     "execution_count": 129,
     "metadata": {},
     "output_type": "execute_result"
    }
   ],
   "source": [
    "from API.models import *\n",
    "restaurant=Restaurant.objects.filter(id=5)\n",
    "reviewsByUser=User.objects.get(id=18)\n",
    "print(reviewsByUser.id)\n",
    "#c=RecommendedRate(user_id=1, restaurant_id=1,rating=5)\n",
    "#c.rating\n",
    "#reviewsByUser.RecommendedRate\n",
    "#gAll=gathering.objects.all()\n",
    "rr=reviewsByUser.recommendedrate_set.all().order_by('-rating')\n",
    "#posts_lists = map(lambda post: project.post, rr)\n",
    "#print(posts_lists.values())\n",
    "mkey=list(rr.values_list('gathering_id',flat=True))\n",
    "print(mkey)\n",
    "clauses = ' '.join(['WHEN id=%s THEN %s' % (pk, i) for i, pk in enumerate(mkey)])\n",
    "ordering = 'CASE %s END' % clauses\n",
    "queryset = Gathering.objects.filter(pk__in=mkey).extra(\n",
    "           select={'ordering': ordering}, order_by=('ordering',))\n",
    "print(queryset)\n",
    "\n",
    "Gathering.objects.filter(id__in=rr.values('gathering_id'))\n",
    "#g=Gathering.objects.get(id=27)\n",
    "#r=g.recommend.get(id=207)\n",
    "#r.gathering.id"
   ]
  },
  {
   "cell_type": "code",
   "execution_count": 130,
   "metadata": {},
   "outputs": [
    {
     "name": "stdout",
     "output_type": "stream",
     "text": [
      "-1\n",
      "-2\n",
      "-2\n",
      "diff\n",
      "3\n",
      "diff\n"
     ]
    }
   ],
   "source": [
    "reviewsByUser=Review.objects.filter(user=13)\n",
    "for review in reviewsByUser:\n",
    "\totherReviews=review.restaurant.review_set.exclude(id=review.id)\n",
    "\tfor otherReview in otherReviews:\n",
    "\t\tprint(review.rating-otherReview.rating)\n",
    "\tprint('diff')\t\t"
   ]
  },
  {
   "cell_type": "code",
   "execution_count": 131,
   "metadata": {},
   "outputs": [
    {
     "name": "stdout",
     "output_type": "stream",
     "text": [
      "      1    2    3    4    5    6    7\n",
      "1   NaN  NaN  NaN  NaN  NaN  NaN  NaN\n",
      "2   NaN  NaN  NaN  NaN  NaN  NaN  NaN\n",
      "3   NaN  NaN  NaN  NaN  NaN  NaN  NaN\n",
      "4   NaN  NaN  NaN  NaN  NaN  NaN  NaN\n",
      "5   NaN  NaN  NaN  NaN  NaN  NaN  NaN\n",
      "6   NaN  NaN  NaN  NaN  NaN  NaN  NaN\n",
      "7   NaN  NaN  NaN  NaN  NaN  NaN  NaN\n",
      "8   NaN  NaN  NaN  NaN  NaN  NaN  NaN\n",
      "9   NaN  NaN  NaN  NaN  NaN  NaN  NaN\n",
      "10  NaN  NaN  NaN  NaN  NaN  NaN  NaN\n",
      "11  NaN  NaN  NaN  NaN    5    3    2\n",
      "12  NaN  NaN  NaN  NaN    3    4  NaN\n",
      "13  NaN  NaN  NaN  NaN  NaN    2    5\n",
      "14  NaN  NaN  NaN  NaN  NaN  NaN  NaN\n",
      "15  NaN  NaN  NaN  NaN  NaN  NaN  NaN\n",
      "16  NaN  NaN  NaN  NaN  NaN  NaN  NaN\n",
      "17  NaN  NaN  NaN  NaN  NaN  NaN  NaN\n",
      "18  NaN  NaN    2  NaN    4    4  NaN\n"
     ]
    }
   ],
   "source": [
    "import pandas as pd\n",
    "import numpy as np\n",
    "\n",
    "userid=list(User.objects.all().order_by('id').values_list('id', flat=True))\n",
    "restaurantid=list(Restaurant.objects.all().values_list('id', flat=True))\n",
    "\n",
    "rating = pd.DataFrame(index=userid,columns=restaurantid)\n",
    "\n",
    "allReviews=Review.objects.all()\n",
    "for review in allReviews:\n",
    "    rating.at[review.user_id,review.restaurant_id]=review.rating\n",
    "\n",
    "print(rating)\n",
    "#print(np.isnan(rating.loc[13,5]))"
   ]
  },
  {
   "cell_type": "code",
   "execution_count": 132,
   "metadata": {},
   "outputs": [
    {
     "name": "stdout",
     "output_type": "stream",
     "text": [
      "     1    2    3    4         5         6    7\n",
      "1  NaN    0    0    0         0         0    0\n",
      "2    0  NaN    0    0         0         0    0\n",
      "3    0    0  NaN    0        -2        -2    0\n",
      "4    0    0    0  NaN         0         0    0\n",
      "5    0    0    2    0       NaN  0.333333    3\n",
      "6    0    0    2    0 -0.333333       NaN   -1\n",
      "7    0    0    0    0        -3         1  NaN\n",
      "     1    2    3    4    5    6    7\n",
      "1  NaN    0    0    0    0    0    0\n",
      "2    0  NaN    0    0    0    0    0\n",
      "3    0    0  NaN    0    1    1    0\n",
      "4    0    0    0  NaN    0    0    0\n",
      "5    0    0    1    0  NaN    3    1\n",
      "6    0    0    1    0    3  NaN    2\n",
      "7    0    0    0    0    1    2  NaN\n"
     ]
    },
    {
     "ename": "ZeroDivisionError",
     "evalue": "float division by zero",
     "output_type": "error",
     "traceback": [
      "\u001b[1;31m---------------------------------------------------------------------------\u001b[0m",
      "\u001b[1;31mZeroDivisionError\u001b[0m                         Traceback (most recent call last)",
      "\u001b[1;32m<ipython-input-132-08be8ea8ab36>\u001b[0m in \u001b[0;36m<module>\u001b[1;34m()\u001b[0m\n\u001b[0;32m     20\u001b[0m \u001b[0mprint\u001b[0m\u001b[1;33m(\u001b[0m\u001b[0mdiff\u001b[0m\u001b[1;33m)\u001b[0m\u001b[1;33m\u001b[0m\u001b[0m\n\u001b[0;32m     21\u001b[0m \u001b[0mprint\u001b[0m\u001b[1;33m(\u001b[0m\u001b[0mfreq\u001b[0m\u001b[1;33m)\u001b[0m\u001b[1;33m\u001b[0m\u001b[0m\n\u001b[1;32m---> 22\u001b[1;33m \u001b[0mprint\u001b[0m\u001b[1;33m(\u001b[0m\u001b[0mdiff\u001b[0m\u001b[1;33m.\u001b[0m\u001b[0mloc\u001b[0m\u001b[1;33m[\u001b[0m\u001b[1;36m1\u001b[0m\u001b[1;33m,\u001b[0m\u001b[1;36m1\u001b[0m\u001b[1;33m]\u001b[0m\u001b[1;33m/\u001b[0m\u001b[1;36m0\u001b[0m\u001b[1;33m)\u001b[0m\u001b[1;33m\u001b[0m\u001b[0m\n\u001b[0m\u001b[0;32m     23\u001b[0m \u001b[1;33m\u001b[0m\u001b[0m\n\u001b[0;32m     24\u001b[0m \u001b[1;31m#print(diff.iloc[1])\u001b[0m\u001b[1;33m\u001b[0m\u001b[1;33m\u001b[0m\u001b[0m\n",
      "\u001b[1;31mZeroDivisionError\u001b[0m: float division by zero"
     ]
    }
   ],
   "source": [
    "diff = pd.DataFrame(index=restaurantid,columns=restaurantid)\n",
    "freq = pd.DataFrame(index=restaurantid,columns=restaurantid)\n",
    "matrixLenght=len(restaurantid)\n",
    "for i in range(0,matrixLenght-1):\n",
    "    for j in range(i+1,matrixLenght):\n",
    "        ratingIndex1=restaurantid[i]\n",
    "        ratingIndex2=restaurantid[j]\n",
    "        temp=rating[ratingIndex1].sub(rating[ratingIndex2])\n",
    "        count=temp.count()\n",
    "        sum=temp.sum()\n",
    "        if(count==0):\n",
    "            diff.at[ratingIndex1,ratingIndex2]=0\n",
    "            diff.at[ratingIndex2,ratingIndex1]=0\n",
    "        else:\n",
    "            diff.at[ratingIndex1,ratingIndex2]=sum/count\n",
    "            diff.at[ratingIndex2,ratingIndex1]=-sum/count\n",
    "        freq.at[ratingIndex1,ratingIndex2]=count\n",
    "        freq.at[ratingIndex2,ratingIndex1]=count\n",
    "\n",
    "print(diff)\n",
    "print(freq)\n",
    "print(diff.loc[1,1]/0)\n",
    "\n",
    "#print(diff.iloc[1])"
   ]
  },
  {
   "cell_type": "code",
   "execution_count": null,
   "metadata": {},
   "outputs": [],
   "source": [
    "predid=18\n",
    "restid=7\n",
    "notnullindex=rating.loc[predid,:].dropna().index\n",
    "#print(notnullindex)\n",
    "length=len(notnullindex)\n",
    "ratingSum=0\n",
    "freqSum=0\n",
    "for i in range(0,length):\n",
    "    ratingSum+=(rating.loc[predid,notnullindex[i]]+diff.loc[restid][notnullindex[i]])*freq.loc[restid][notnullindex[i]]\n",
    "    freqSum+=freq.loc[restid][notnullindex[i]]\n",
    "if(freqSum!=0):\n",
    "    print(ratingSum/freqSum)\n",
    "else:\n",
    "    print(0)\n",
    "#predictedrate=RecommendedRate(user_id=predid, restaurant_id=restid,rating=ratingSum/freqSum)\n",
    "#predictedrate.save()\n"
   ]
  },
  {
   "cell_type": "code",
   "execution_count": null,
   "metadata": {},
   "outputs": [],
   "source": [
    "import numpy as np\n",
    "\n",
    "rating.loc[:,10] = np.nan\n",
    "rating.loc[14,:]= np.nan\n",
    "rating.loc[15,11]= 4\n",
    "rating\n"
   ]
  },
  {
   "cell_type": "code",
   "execution_count": null,
   "metadata": {},
   "outputs": [],
   "source": [
    "\n",
    "newReviewRest=5\n",
    "freq.loc[newReviewRest,:] = freq.loc[newReviewRest,:] + 1\n",
    "freq.loc[:,newReviewRest] = freq.loc[:,newReviewRest] + 1\n",
    "freq"
   ]
  },
  {
   "cell_type": "code",
   "execution_count": null,
   "metadata": {},
   "outputs": [],
   "source": [
    "restaurantid\n",
    "matrixLenght=len(restaurantid)\n",
    "for i in range(0,matrixLenght-1):\n",
    "    ratingIndex1=restaurantid[i]\n",
    "    ratingIndex2=restaurantid[j]\n",
    "    temp=rating[ratingIndex1].sub(rating[ratingIndex2])\n",
    "    count=temp.count()\n",
    "    sum=temp.sum()\n",
    "    diff.at[ratingIndex1,ratingIndex2]=sum/count\n",
    "    diff.at[ratingIndex2,ratingIndex1]=-sum/count\n"
   ]
  },
  {
   "cell_type": "code",
   "execution_count": null,
   "metadata": {},
   "outputs": [],
   "source": [
    "RecommendedRate.objects.all()"
   ]
  },
  {
   "cell_type": "code",
   "execution_count": null,
   "metadata": {},
   "outputs": [],
   "source": [
    "from API.recommendation import *\n",
    "s=SlopeOne()\n",
    "s.predict(12,5)"
   ]
  },
  {
   "cell_type": "code",
   "execution_count": null,
   "metadata": {},
   "outputs": [],
   "source": [
    "from sklearn.cluster import AgglomerativeClustering\n",
    "\n",
    "print(freq)\n",
    "agg = AgglomerativeClustering(n_clusters=3, affinity='precomputed',linkage='average')\n",
    "print(agg.fit_predict(freq.fillna(0)))"
   ]
  },
  {
   "cell_type": "code",
   "execution_count": 152,
   "metadata": {},
   "outputs": [
    {
     "name": "stdout",
     "output_type": "stream",
     "text": [
      "                  Hong Kong Island  Kowloon  New Territories\n",
      "Hong Kong Island               0.0      8.1             16.2\n",
      "Kowloon                        8.1      0.0             12.7\n",
      "New Territories               16.2     12.7              0.0\n",
      "      6     7     8     9     10    11    12    13    14    15    16    17  \\\n",
      "6    0.0   0.0   0.0  12.7   0.0  12.7   0.0  12.7  12.7  12.7   0.0   0.0   \n",
      "7    0.0   0.0   0.0  12.7   0.0  12.7   0.0  12.7  12.7  12.7   0.0   0.0   \n",
      "8    0.0   0.0   0.0  12.7   0.0  12.7   0.0  12.7  12.7  12.7   0.0   0.0   \n",
      "9   12.7  12.7  12.7   0.0  12.7   0.0  12.7   0.0   0.0   0.0  12.7  12.7   \n",
      "10   0.0   0.0   0.0  12.7   0.0  12.7   0.0  12.7  12.7  12.7   0.0   0.0   \n",
      "11  12.7  12.7  12.7   0.0  12.7   0.0  12.7   0.0   0.0   0.0  12.7  12.7   \n",
      "12   0.0   0.0   0.0  12.7   0.0  12.7   0.0  12.7  12.7  12.7   0.0   0.0   \n",
      "13  12.7  12.7  12.7   0.0  12.7   0.0  12.7   0.0   0.0   0.0  12.7  12.7   \n",
      "14  12.7  12.7  12.7   0.0  12.7   0.0  12.7   0.0   0.0   0.0  12.7  12.7   \n",
      "15  12.7  12.7  12.7   0.0  12.7   0.0  12.7   0.0   0.0   0.0  12.7  12.7   \n",
      "16   0.0   0.0   0.0  12.7   0.0  12.7   0.0  12.7  12.7  12.7   0.0   0.0   \n",
      "17   0.0   0.0   0.0  12.7   0.0  12.7   0.0  12.7  12.7  12.7   0.0   0.0   \n",
      "18  12.7  12.7  12.7   0.0  12.7   0.0  12.7   0.0   0.0   0.0  12.7  12.7   \n",
      "\n",
      "      18  \n",
      "6   12.7  \n",
      "7   12.7  \n",
      "8   12.7  \n",
      "9    0.0  \n",
      "10  12.7  \n",
      "11   0.0  \n",
      "12  12.7  \n",
      "13   0.0  \n",
      "14   0.0  \n",
      "15   0.0  \n",
      "16  12.7  \n",
      "17  12.7  \n",
      "18   0.0  \n"
     ]
    }
   ],
   "source": [
    "profileList=list(Profile.objects.all().order_by('user_id').values_list('user_id', flat=True))\n",
    "\n",
    "from django_pandas.io import read_frame\n",
    "qs = Profile.objects.all()\n",
    "profileTable = read_frame(qs,fieldnames=['user_id','dob', 'location', 'gender']).set_index('user_id')\n",
    "#print(profileTable)\n",
    "\n",
    "locationDistanceMatrix=pd.DataFrame(index=profileList,columns=profileList)\n",
    "#print(profileTable.iloc[1]['location'])\n",
    "\n",
    "region=['Hong Kong Island','Hong Kong Island','Hong Kong Island','Hong Kong Island',\n",
    "        'Kowloon','Kowloon','Kowloon','Kowloon','Kowloon','Kowloon',\n",
    "        'New Territories','New Territories','New Territories','New Territories','New Territories','New Territories',\n",
    "       'New Territories','New Territories']\n",
    "district=['Central and Western','Eastern','Southern','Wan Chai',\n",
    "          'Sham Shui Po','Kowloon City','Kwun Tong','Wong Tai Sin','Yau Tsim Mong',\n",
    "          'Islands','Kwai Tsing','North','Sai Kung','Sha Tin','Tai Po','Tsuen Wan','Tuen Mun','Yuen Long']\n",
    "\n",
    "regionNameList=['Hong Kong Island','Kowloon','New Territories']\n",
    "districtRegionRelationship=pd.DataFrame(index=district)\n",
    "districtRegionRelationship['region']=region\n",
    "#print(districtRegionRelationship.loc['Yuen Long'].values[0])\n",
    "\n",
    "regionDistanceMatrix=pd.DataFrame(index=regionNameList,columns=regionNameList)\n",
    "regionDistanceMatrix.iloc[0,1]=8.1\n",
    "regionDistanceMatrix.iloc[1,0]=8.1\n",
    "regionDistanceMatrix.iloc[0,2]=16.2\n",
    "regionDistanceMatrix.iloc[2,0]=16.2\n",
    "regionDistanceMatrix.iloc[1,2]=12.7\n",
    "regionDistanceMatrix.iloc[2,1]=12.7\n",
    "regionDistanceMatrix=regionDistanceMatrix.fillna(0)\n",
    "print(regionDistanceMatrix)\n",
    "\n",
    "matrixLenght=len(profileList)\n",
    "for i in range(0,matrixLenght-1):\n",
    "    for j in range(i+1,matrixLenght):\n",
    "        #print(\"i={0},j={1}\".format(i, j))\n",
    "        myIndex=profileList[i]\n",
    "        otherIndex=profileList[j]\n",
    "        myLocation=profileTable.loc[myIndex]['location']\n",
    "        otherLocation=profileTable.loc[otherIndex]['location']\n",
    "        myRegion=districtRegionRelationship.loc[myLocation].values[0]\n",
    "        #print(myRegion)\n",
    "        otherRegion=districtRegionRelationship.loc[otherLocation].values[0]\n",
    "        #print(regionDistanceMatrix.loc[myRegion][otherRegion])\n",
    "        #print(regionDistanceMatrix.iloc[0][1])\n",
    "        locationDistanceMatrix.loc[myIndex,otherIndex]=regionDistanceMatrix.loc[myRegion,otherRegion]\n",
    "        locationDistanceMatrix.loc[otherIndex,myIndex]=regionDistanceMatrix.loc[myRegion,otherRegion]\n",
    "\n",
    "locationDistanceMatrix.fillna(0, inplace=True)\n",
    "locationDistanceMatrix_norm = ((locationDistanceMatrix - locationDistanceMatrix.values.min()) / \n",
    "                               (locationDistanceMatrix.values.max() - locationDistanceMatrix.values.min()))\n",
    "print(locationDistanceMatrix)\n",
    "#print(locationDistanceMatrix)\n",
    "#print(df.iloc[:]['location'])\n"
   ]
  },
  {
   "cell_type": "code",
   "execution_count": null,
   "metadata": {},
   "outputs": [],
   "source": []
  }
 ],
 "metadata": {
  "kernelspec": {
   "display_name": "Django Shell-Plus",
   "language": "python",
   "name": "django_extensions"
  },
  "language_info": {
   "codemirror_mode": {
    "name": "ipython",
    "version": 3
   },
   "file_extension": ".py",
   "mimetype": "text/x-python",
   "name": "python",
   "nbconvert_exporter": "python",
   "pygments_lexer": "ipython3",
   "version": "3.6.2"
  }
 },
 "nbformat": 4,
 "nbformat_minor": 2
}
